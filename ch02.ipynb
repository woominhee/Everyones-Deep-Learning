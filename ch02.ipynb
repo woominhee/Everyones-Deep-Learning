{
  "cells": [
    {
      "cell_type": "markdown",
      "metadata": {
        "id": "view-in-github",
        "colab_type": "text"
      },
      "source": [
        "<a href=\"https://colab.research.google.com/github/woominhee/Everyones-Deep-Learning/blob/main/ch02.ipynb\" target=\"_parent\"><img src=\"https://colab.research.google.com/assets/colab-badge.svg\" alt=\"Open In Colab\"/></a>"
      ]
    },
    {
      "cell_type": "markdown",
      "metadata": {
        "id": "t3qKPCqkIM8l"
      },
      "source": [
        "# 2장. 딥러닝 핵심 미리보기"
      ]
    },
    {
      "cell_type": "markdown",
      "metadata": {
        "id": "9aGnqS4iIM8p"
      },
      "source": [
        "## 나의 첫 딥러닝: '10장 폐암 수술 환자의 생존율 예측' 코드 미리보기"
      ]
    },
    {
      "cell_type": "markdown",
      "metadata": {
        "id": "UbVYiBTEIM8q"
      },
      "source": [
        "### 1. 환경 준비 "
      ]
    },
    {
      "cell_type": "code",
      "execution_count": null,
      "metadata": {
        "id": "L4eubqQbIM8r"
      },
      "outputs": [],
      "source": [
        "from tensorflow.keras.models import Sequential  # 텐서플로의 케라스 API의 클래스에서 필요한 함수들을 불러온다.\n",
        "from tensorflow.keras.layers import Dense       # 데이터를 다루는 데 필요한 라이브러리를 불러온다.\n",
        "import numpy as np"
      ]
    },
    {
      "cell_type": "markdown",
      "metadata": {
        "id": "J5TWyXHBIM8s"
      },
      "source": [
        "### 2. 데이터 준비"
      ]
    },
    {
      "cell_type": "code",
      "execution_count": null,
      "metadata": {
        "id": "Xq0LZLNrIM8s",
        "colab": {
          "base_uri": "https://localhost:8080/"
        },
        "outputId": "7eb7047f-a683-420a-d68d-40b2e7f31f0d"
      },
      "outputs": [
        {
          "output_type": "stream",
          "name": "stdout",
          "text": [
            "Cloning into 'data'...\n",
            "remote: Enumerating objects: 21, done.\u001b[K\n",
            "remote: Counting objects: 100% (21/21), done.\u001b[K\n",
            "remote: Compressing objects: 100% (18/18), done.\u001b[K\n",
            "remote: Total 21 (delta 3), reused 20 (delta 2), pack-reused 0\u001b[K\n",
            "Unpacking objects: 100% (21/21), 460.93 KiB | 3.11 MiB/s, done.\n"
          ]
        }
      ],
      "source": [
        "!git clone https://github.com/taehojo/data.git   # 깃허브에 준비된 데이터를 가져온다. 옆에 폴더에서 데이터 확인 가능.\n",
        "\n",
        "Data_set = np.loadtxt(\"./data/ThoraricSurgery3.csv\", delimiter=\",\")  # 수술 환자 데이터를 불러온다.\n",
        "X = Data_set[:,0:16]                                                 # 환자의 진찰 기록을 X로 지정(속성)\n",
        "y = Data_set[:,16]                                                   # 수술 후 사망/생존 여부를 y로 지정(클래스)"
      ]
    },
    {
      "cell_type": "markdown",
      "metadata": {
        "id": "-X_6wZ6ZIM8t"
      },
      "source": [
        "### 3. 구조 결정 "
      ]
    },
    {
      "cell_type": "code",
      "execution_count": null,
      "metadata": {
        "id": "BHUiEfJmIM8t"
      },
      "outputs": [],
      "source": [
        "model = Sequential()                                                  # 딥러닝 모델의 구조를 결정\n",
        "model.add(Dense(30, input_dim=16, activation='relu'))\n",
        "model.add(Dense(1, activation='sigmoid'))"
      ]
    },
    {
      "cell_type": "markdown",
      "metadata": {
        "id": "dVbNJR7PIM8u"
      },
      "source": [
        "### 4. 모델 실행 "
      ]
    },
    {
      "cell_type": "code",
      "execution_count": null,
      "metadata": {
        "id": "byeiH13hIM8u",
        "outputId": "25a24aa2-ed1a-4bca-8508-940caff018dc",
        "colab": {
          "base_uri": "https://localhost:8080/"
        }
      },
      "outputs": [
        {
          "output_type": "stream",
          "name": "stdout",
          "text": [
            "Epoch 1/5\n",
            "30/30 [==============================] - 1s 3ms/step - loss: 2.1365 - accuracy: 0.8511\n",
            "Epoch 2/5\n",
            "30/30 [==============================] - 0s 4ms/step - loss: 0.6729 - accuracy: 0.8255\n",
            "Epoch 3/5\n",
            "30/30 [==============================] - 0s 4ms/step - loss: 0.4489 - accuracy: 0.8489\n",
            "Epoch 4/5\n",
            "30/30 [==============================] - 0s 3ms/step - loss: 0.4452 - accuracy: 0.8511\n",
            "Epoch 5/5\n",
            "30/30 [==============================] - 0s 3ms/step - loss: 0.4424 - accuracy: 0.8511\n"
          ]
        }
      ],
      "source": [
        "model.compile(loss='binary_crossentropy', optimizer='adam', metrics=['accuracy'])  # 딥러닝 모델을 실행\n",
        "history=model.fit(X, y, epochs=5, batch_size=16)"
      ]
    }
  ],
  "metadata": {
    "kernelspec": {
      "display_name": "Python 3 (ipykernel)",
      "language": "python",
      "name": "python3"
    },
    "language_info": {
      "codemirror_mode": {
        "name": "ipython",
        "version": 3
      },
      "file_extension": ".py",
      "mimetype": "text/x-python",
      "name": "python",
      "nbconvert_exporter": "python",
      "pygments_lexer": "ipython3",
      "version": "3.9.7"
    },
    "colab": {
      "provenance": [],
      "include_colab_link": true
    }
  },
  "nbformat": 4,
  "nbformat_minor": 0
}