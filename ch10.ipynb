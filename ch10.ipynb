{
  "cells": [
    {
      "cell_type": "markdown",
      "metadata": {
        "id": "view-in-github",
        "colab_type": "text"
      },
      "source": [
        "<a href=\"https://colab.research.google.com/github/woominhee/Everyones-Deep-Learning/blob/main/ch10.ipynb\" target=\"_parent\"><img src=\"https://colab.research.google.com/assets/colab-badge.svg\" alt=\"Open In Colab\"/></a>"
      ]
    },
    {
      "cell_type": "markdown",
      "metadata": {
        "id": "e8Y4Sv1gRNK_"
      },
      "source": [
        "# 10장 딥러닝 모델 설계하기  (2장 딥러닝의 핵심 미리 보기)"
      ]
    },
    {
      "cell_type": "markdown",
      "metadata": {
        "id": "PTk09Cr5RNLD"
      },
      "source": [
        "### 1. 환경 준비 "
      ]
    },
    {
      "cell_type": "code",
      "execution_count": 1,
      "metadata": {
        "id": "MN8oWQNERNLD"
      },
      "outputs": [],
      "source": [
        "# 텐서플로 라이브러리 안에 있는 케라스 API에서 필요한 함수들을 불러온다.\n",
        "from tensorflow.keras.models import Sequential  \n",
        "from tensorflow.keras.layers import Dense   \n",
        "\n",
        "# 데이터를 다루는 데 필요한 라이브러리를 불러온다.\n",
        "import numpy as np"
      ]
    },
    {
      "cell_type": "markdown",
      "metadata": {
        "id": "YRAUL52KRNLE"
      },
      "source": [
        "### 2. 데이터 준비"
      ]
    },
    {
      "cell_type": "code",
      "execution_count": 2,
      "metadata": {
        "id": "k9BogLfeRNLF",
        "colab": {
          "base_uri": "https://localhost:8080/"
        },
        "outputId": "2b2ac954-278e-4f93-87cf-b2317c25c7fb"
      },
      "outputs": [
        {
          "output_type": "stream",
          "name": "stdout",
          "text": [
            "Cloning into 'data'...\n",
            "remote: Enumerating objects: 21, done.\u001b[K\n",
            "remote: Counting objects: 100% (21/21), done.\u001b[K\n",
            "remote: Compressing objects: 100% (18/18), done.\u001b[K\n",
            "remote: Total 21 (delta 3), reused 20 (delta 2), pack-reused 0\u001b[K\n",
            "Unpacking objects: 100% (21/21), 460.93 KiB | 4.56 MiB/s, done.\n"
          ]
        }
      ],
      "source": [
        "# 깃허브에 준비된 데이터를 가져온다.\n",
        "!git clone https://github.com/taehojo/data.git   \n",
        "\n",
        "# 준비된 수술 환자 데이터를 불러온다.\n",
        "Data_set = np.loadtxt(\"./data/ThoraricSurgery3.csv\", delimiter=\",\")  \n",
        "X = Data_set[:,0:16]    # 환자의 진찰 기록을 X로 지정\n",
        "y = Data_set[:,16]      # 수술 1년 후 사망/생존 여부를 y로 지정"
      ]
    },
    {
      "cell_type": "markdown",
      "metadata": {
        "id": "zf-AW5NqRNLF"
      },
      "source": [
        "### 3. 구조 결정 "
      ]
    },
    {
      "cell_type": "code",
      "execution_count": 3,
      "metadata": {
        "id": "BEfa9azNRNLG"
      },
      "outputs": [],
      "source": [
        "# 딥러닝 모델의 구조 결정\n",
        "model = Sequential()                                                   \n",
        "model.add(Dense(30, input_dim=16, activation='relu'))\n",
        "model.add(Dense(1, activation='sigmoid'))"
      ]
    },
    {
      "cell_type": "markdown",
      "metadata": {
        "id": "Wg2Ju5TTRNLG"
      },
      "source": [
        "### 4. 모델 실행 "
      ]
    },
    {
      "cell_type": "code",
      "execution_count": 4,
      "metadata": {
        "id": "6Puv4ovSRNLH",
        "outputId": "acc355e4-ee54-4331-e063-d400f66b0938",
        "colab": {
          "base_uri": "https://localhost:8080/"
        }
      },
      "outputs": [
        {
          "output_type": "stream",
          "name": "stdout",
          "text": [
            "Epoch 1/5\n",
            "30/30 [==============================] - 1s 2ms/step - loss: 3.6963 - accuracy: 0.1787\n",
            "Epoch 2/5\n",
            "30/30 [==============================] - 0s 2ms/step - loss: 0.5107 - accuracy: 0.8511\n",
            "Epoch 3/5\n",
            "30/30 [==============================] - 0s 2ms/step - loss: 0.4813 - accuracy: 0.8511\n",
            "Epoch 4/5\n",
            "30/30 [==============================] - 0s 8ms/step - loss: 0.4601 - accuracy: 0.8511\n",
            "Epoch 5/5\n",
            "30/30 [==============================] - 0s 2ms/step - loss: 0.4581 - accuracy: 0.8511\n"
          ]
        }
      ],
      "source": [
        "# 딥러닝 모델 실행\n",
        "model.compile(loss='binary_crossentropy', optimizer='adam', metrics=['accuracy']) \n",
        "history=model.fit(X, y, epochs=5, batch_size=16)"
      ]
    }
  ],
  "metadata": {
    "colab": {
      "provenance": [],
      "include_colab_link": true
    },
    "kernelspec": {
      "display_name": "Python 3 (ipykernel)",
      "language": "python",
      "name": "python3"
    },
    "language_info": {
      "codemirror_mode": {
        "name": "ipython",
        "version": 3
      },
      "file_extension": ".py",
      "mimetype": "text/x-python",
      "name": "python",
      "nbconvert_exporter": "python",
      "pygments_lexer": "ipython3",
      "version": "3.9.7"
    }
  },
  "nbformat": 4,
  "nbformat_minor": 0
}