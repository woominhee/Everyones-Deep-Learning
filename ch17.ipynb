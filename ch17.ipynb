{
  "cells": [
    {
      "cell_type": "markdown",
      "metadata": {
        "id": "view-in-github",
        "colab_type": "text"
      },
      "source": [
        "<a href=\"https://colab.research.google.com/github/woominhee/Everyones-Deep-Learning/blob/main/ch17.ipynb\" target=\"_parent\"><img src=\"https://colab.research.google.com/assets/colab-badge.svg\" alt=\"Open In Colab\"/></a>"
      ]
    },
    {
      "cell_type": "markdown",
      "metadata": {
        "id": "XsalpJ_KLSSv"
      },
      "source": [
        "# 17장 딥러닝을 이용한 자연어 처리"
      ]
    },
    {
      "cell_type": "markdown",
      "metadata": {
        "id": "dyGt_ra8LSSz"
      },
      "source": [
        "## 1. 텍스트의 토큰화"
      ]
    },
    {
      "cell_type": "code",
      "execution_count": 1,
      "metadata": {
        "id": "YlUBrbvrLSS0",
        "outputId": "50048746-7035-42d8-c48a-921142b85a39",
        "colab": {
          "base_uri": "https://localhost:8080/"
        }
      },
      "outputs": [
        {
          "output_type": "stream",
          "name": "stdout",
          "text": [
            "\n",
            "원문:\n",
            " 해보지 않으면 해낼 수 없다\n",
            "\n",
            "토큰화:\n",
            " ['해보지', '않으면', '해낼', '수', '없다']\n"
          ]
        }
      ],
      "source": [
        "from tensorflow.keras.preprocessing.text import Tokenizer\n",
        "from tensorflow.keras.preprocessing.sequence import pad_sequences\n",
        "from tensorflow.keras.models import Sequential\n",
        "from tensorflow.keras.layers import Dense,Flatten,Embedding\n",
        "from tensorflow.keras.utils import to_categorical\n",
        "from numpy import array\n",
        "\n",
        "# 케라스의 텍스트 전처리와 관련된 함수 중 text_to_word_sequence 함수를 불러온다.\n",
        "from tensorflow.keras.preprocessing.text import text_to_word_sequence\n",
        " \n",
        "# 전처리할 텍스트\n",
        "text = '해보지 않으면 해낼 수 없다'\n",
        " \n",
        "# 해당 텍스트 토큰화\n",
        "result = text_to_word_sequence(text)\n",
        "print(\"\\n원문:\\n\", text)\n",
        "print(\"\\n토큰화:\\n\", result)"
      ]
    },
    {
      "cell_type": "code",
      "execution_count": 2,
      "metadata": {
        "id": "2FG1NYrULSS2",
        "outputId": "fdb0b598-d718-4a41-8079-f80b2b8ddf29",
        "colab": {
          "base_uri": "https://localhost:8080/"
        }
      },
      "outputs": [
        {
          "output_type": "stream",
          "name": "stdout",
          "text": [
            "\n",
            "단어 카운트:\n",
            " OrderedDict([('먼저', 1), ('텍스트의', 2), ('각', 1), ('단어를', 1), ('나누어', 1), ('토큰화합니다', 1), ('단어로', 1), ('토큰화해야', 1), ('딥러닝에서', 2), ('인식됩니다', 1), ('토큰화한', 1), ('결과는', 1), ('사용할', 1), ('수', 1), ('있습니다', 1)])\n",
            "\n",
            "문장 카운트:  3\n",
            "\n",
            "각 단어가 몇 개의 문장에 포함되어 있는가:\n",
            " defaultdict(<class 'int'>, {'토큰화합니다': 1, '먼저': 1, '각': 1, '나누어': 1, '텍스트의': 2, '단어를': 1, '인식됩니다': 1, '딥러닝에서': 2, '단어로': 1, '토큰화해야': 1, '사용할': 1, '있습니다': 1, '토큰화한': 1, '수': 1, '결과는': 1})\n",
            "\n",
            "각 단어에 매겨진 인덱스 값:\n",
            " {'텍스트의': 1, '딥러닝에서': 2, '먼저': 3, '각': 4, '단어를': 5, '나누어': 6, '토큰화합니다': 7, '단어로': 8, '토큰화해야': 9, '인식됩니다': 10, '토큰화한': 11, '결과는': 12, '사용할': 13, '수': 14, '있습니다': 15}\n"
          ]
        }
      ],
      "source": [
        "# 단어 빈도수 세기\n",
        "\n",
        "# 전처리할 세 개의 문장\n",
        "docs = ['먼저 텍스트의 각 단어를 나누어 토큰화합니다.',\n",
        "       '텍스트의 단어로 토큰화해야 딥러닝에서 인식됩니다.',\n",
        "       '토큰화한 결과는 딥러닝에서 사용할 수 있습니다.',\n",
        "       ]\n",
        " \n",
        "# 토큰화 함수를 이용해 전처리 하는 과정\n",
        "token = Tokenizer()            # 토큰화 함수 지정\n",
        "token.fit_on_texts(docs)       # 토큰화 함수에 문장 적용\n",
        " \n",
        "# 단어의 빈도수를 계산한 결과를 각 옵션에 맞추어 출력\n",
        "# Tokenizer()의 word_counts 함수는 순서를 기억하는 OrderedDict 클래스 사용\n",
        "print(\"\\n단어 카운트:\\n\", token.word_counts) \n",
        "\n",
        "# 출력되는 순서 랜덤\n",
        "print(\"\\n문장 카운트: \", token.document_count)\n",
        "print(\"\\n각 단어가 몇 개의 문장에 포함되어 있는가:\\n\", token.word_docs)\n",
        "print(\"\\n각 단어에 매겨진 인덱스 값:\\n\",  token.word_index)"
      ]
    },
    {
      "cell_type": "markdown",
      "metadata": {
        "id": "ko1zpzYRLSS3"
      },
      "source": [
        "## 2. 단어의 원-핫 인코딩"
      ]
    },
    {
      "cell_type": "code",
      "execution_count": 6,
      "metadata": {
        "id": "P6pCcsCSLSS3",
        "outputId": "ba1f67b4-1d78-4704-b702-761a9e5bd0f2",
        "colab": {
          "base_uri": "https://localhost:8080/"
        }
      },
      "outputs": [
        {
          "output_type": "stream",
          "name": "stdout",
          "text": [
            "{'오랫동안': 1, '꿈꾸는': 2, '이는': 3, '그': 4, '꿈을': 5, '닮아간다': 6}\n"
          ]
        }
      ],
      "source": [
        "text=\"오랫동안 꿈꾸는 이는 그 꿈을 닮아간다\"\n",
        "token = Tokenizer()\n",
        "token.fit_on_texts([text])\n",
        "print(token.word_index)"
      ]
    },
    {
      "cell_type": "code",
      "execution_count": 7,
      "metadata": {
        "id": "F7EGiatxLSS4",
        "outputId": "80257a14-beea-42da-ef19-0a5b240a454b",
        "colab": {
          "base_uri": "https://localhost:8080/"
        }
      },
      "outputs": [
        {
          "output_type": "stream",
          "name": "stdout",
          "text": [
            "[[1, 2, 3, 4, 5, 6]]\n"
          ]
        }
      ],
      "source": [
        "x=token.texts_to_sequences([text])  # 앞서 만들어진 토큰의 인덱스로만 채워진 새로운 배열을 만듦\n",
        "print(x)"
      ]
    },
    {
      "cell_type": "code",
      "execution_count": 8,
      "metadata": {
        "id": "PKxggXb9LSS4",
        "outputId": "b030818d-feba-48bd-d3ea-452b45dbbb0c",
        "colab": {
          "base_uri": "https://localhost:8080/"
        }
      },
      "outputs": [
        {
          "output_type": "stream",
          "name": "stdout",
          "text": [
            "[[[0. 1. 0. 0. 0. 0. 0.]\n",
            "  [0. 0. 1. 0. 0. 0. 0.]\n",
            "  [0. 0. 0. 1. 0. 0. 0.]\n",
            "  [0. 0. 0. 0. 1. 0. 0.]\n",
            "  [0. 0. 0. 0. 0. 1. 0.]\n",
            "  [0. 0. 0. 0. 0. 0. 1.]]]\n"
          ]
        }
      ],
      "source": [
        "# 배열 맨 앞에 0이 추가되므로 인덱스 수에 하나를 추가해서 원-핫 인코딩 배열 만들기\n",
        "word_size = len(token.word_index) + 1\n",
        "x = to_categorical(x, num_classes=word_size)\n",
        "print(x)"
      ]
    },
    {
      "cell_type": "markdown",
      "metadata": {
        "id": "cyovn0KqLSS5"
      },
      "source": [
        "## 4.텍스트를 읽고 긍정, 부정 예측하기"
      ]
    },
    {
      "cell_type": "code",
      "execution_count": 9,
      "metadata": {
        "id": "1P3-i12hLSS6",
        "outputId": "f9dfcbe0-e352-4099-ebc9-baaa33bb6d87",
        "colab": {
          "base_uri": "https://localhost:8080/"
        }
      },
      "outputs": [
        {
          "output_type": "stream",
          "name": "stdout",
          "text": [
            "{'너무': 1, '재밌네요': 2, '최고예요': 3, '참': 4, '잘': 5, '만든': 6, '영화예요': 7, '추천하고': 8, '싶은': 9, '영화입니다': 10, '한번': 11, '더': 12, '보고싶네요': 13, '글쎄요': 14, '별로예요': 15, '생각보다': 16, '지루하네요': 17, '연기가': 18, '어색해요': 19, '재미없어요': 20}\n"
          ]
        }
      ],
      "source": [
        "# 텍스트 리뷰 자료 지정\n",
        "docs = [\"너무 재밌네요\",\"최고예요\",\"참 잘 만든 영화예요\",\"추천하고 싶은 영화입니다\",\"한번 더 보고싶네요\",\"글쎄요\",\"별로예요\",\"생각보다 지루하네요\",\"연기가 어색해요\",\"재미없어요\"]\n",
        "\n",
        "# 긍정 리뷰는 1, 부정 리뷰는 0으로 클래스 지정\n",
        "classes = array([1,1,1,1,1,0,0,0,0,0])\n",
        "\n",
        "# 토큰화 \n",
        "token = Tokenizer()\n",
        "token.fit_on_texts(docs)\n",
        "print(token.word_index)\n"
      ]
    },
    {
      "cell_type": "code",
      "execution_count": 10,
      "metadata": {
        "id": "P5w47DmtLSS6",
        "outputId": "16ae277d-f582-4ded-aaab-78ed421c4ef4",
        "colab": {
          "base_uri": "https://localhost:8080/"
        }
      },
      "outputs": [
        {
          "output_type": "stream",
          "name": "stdout",
          "text": [
            "\n",
            "리뷰 텍스트, 토큰화 결과:\n",
            " [[1, 2], [3], [4, 5, 6, 7], [8, 9, 10], [11, 12, 13], [14], [15], [16, 17], [18, 19], [20]]\n"
          ]
        }
      ],
      "source": [
        "x = token.texts_to_sequences(docs)\n",
        "print(\"\\n리뷰 텍스트, 토큰화 결과:\\n\",  x)"
      ]
    },
    {
      "cell_type": "code",
      "execution_count": 11,
      "metadata": {
        "id": "vf3WNVZmLSS7",
        "outputId": "2d6103b9-4cec-4095-e3ba-061ce39e30c9",
        "colab": {
          "base_uri": "https://localhost:8080/"
        }
      },
      "outputs": [
        {
          "output_type": "stream",
          "name": "stdout",
          "text": [
            "\n",
            "패딩 결과:\n",
            " [[ 0  0  1  2]\n",
            " [ 0  0  0  3]\n",
            " [ 4  5  6  7]\n",
            " [ 0  8  9 10]\n",
            " [ 0 11 12 13]\n",
            " [ 0  0  0 14]\n",
            " [ 0  0  0 15]\n",
            " [ 0  0 16 17]\n",
            " [ 0  0 18 19]\n",
            " [ 0  0  0 20]]\n"
          ]
        }
      ],
      "source": [
        "# 패딩. 서로 다른 길이의 데이터를 4로 맞추어 줌\n",
        "padded_x = pad_sequences(x, 4)  \n",
        "print(\"\\n패딩 결과:\\n\", padded_x)"
      ]
    },
    {
      "cell_type": "code",
      "execution_count": 12,
      "metadata": {
        "id": "HkhKyqFmLSS7",
        "outputId": "e2109d6d-4f43-4ac2-98f1-164b57e369fc",
        "colab": {
          "base_uri": "https://localhost:8080/"
        }
      },
      "outputs": [
        {
          "output_type": "stream",
          "name": "stdout",
          "text": [
            "Model: \"sequential\"\n",
            "_________________________________________________________________\n",
            " Layer (type)                Output Shape              Param #   \n",
            "=================================================================\n",
            " embedding (Embedding)       (None, 4, 8)              168       \n",
            "                                                                 \n",
            " flatten (Flatten)           (None, 32)                0         \n",
            "                                                                 \n",
            " dense (Dense)               (None, 1)                 33        \n",
            "                                                                 \n",
            "=================================================================\n",
            "Total params: 201\n",
            "Trainable params: 201\n",
            "Non-trainable params: 0\n",
            "_________________________________________________________________\n"
          ]
        }
      ],
      "source": [
        "# 임베딩에 입력될 단어의 수 지정\n",
        "word_size = len(token.word_index) +1\n",
        "\n",
        "# 단어 임베딩을 포함하여 딥러닝 모델을 만들고 결과 출력\n",
        "model = Sequential()\n",
        "model.add(Embedding(word_size, 8, input_length=4))\n",
        "model.add(Flatten())\n",
        "model.add(Dense(1, activation='sigmoid'))\n",
        "model.summary()"
      ]
    },
    {
      "cell_type": "code",
      "execution_count": 13,
      "metadata": {
        "id": "2mE5DbHrLSS8",
        "outputId": "72ec0829-d615-4fcb-8147-2a33418ffe2a",
        "colab": {
          "base_uri": "https://localhost:8080/"
        }
      },
      "outputs": [
        {
          "output_type": "stream",
          "name": "stdout",
          "text": [
            "Epoch 1/20\n",
            "1/1 [==============================] - 1s 975ms/step - loss: 0.7018 - accuracy: 0.4000\n",
            "Epoch 2/20\n",
            "1/1 [==============================] - 0s 17ms/step - loss: 0.6997 - accuracy: 0.4000\n",
            "Epoch 3/20\n",
            "1/1 [==============================] - 0s 15ms/step - loss: 0.6975 - accuracy: 0.5000\n",
            "Epoch 4/20\n",
            "1/1 [==============================] - 0s 15ms/step - loss: 0.6954 - accuracy: 0.5000\n",
            "Epoch 5/20\n",
            "1/1 [==============================] - 0s 13ms/step - loss: 0.6932 - accuracy: 0.5000\n",
            "Epoch 6/20\n",
            "1/1 [==============================] - 0s 20ms/step - loss: 0.6911 - accuracy: 0.5000\n",
            "Epoch 7/20\n",
            "1/1 [==============================] - 0s 15ms/step - loss: 0.6890 - accuracy: 0.6000\n",
            "Epoch 8/20\n",
            "1/1 [==============================] - 0s 15ms/step - loss: 0.6869 - accuracy: 0.6000\n",
            "Epoch 9/20\n",
            "1/1 [==============================] - 0s 14ms/step - loss: 0.6848 - accuracy: 0.6000\n",
            "Epoch 10/20\n",
            "1/1 [==============================] - 0s 11ms/step - loss: 0.6827 - accuracy: 0.6000\n",
            "Epoch 11/20\n",
            "1/1 [==============================] - 0s 17ms/step - loss: 0.6807 - accuracy: 0.8000\n",
            "Epoch 12/20\n",
            "1/1 [==============================] - 0s 12ms/step - loss: 0.6786 - accuracy: 0.8000\n",
            "Epoch 13/20\n",
            "1/1 [==============================] - 0s 12ms/step - loss: 0.6765 - accuracy: 0.9000\n",
            "Epoch 14/20\n",
            "1/1 [==============================] - 0s 12ms/step - loss: 0.6744 - accuracy: 0.9000\n",
            "Epoch 15/20\n",
            "1/1 [==============================] - 0s 14ms/step - loss: 0.6724 - accuracy: 0.9000\n",
            "Epoch 16/20\n",
            "1/1 [==============================] - 0s 12ms/step - loss: 0.6703 - accuracy: 0.9000\n",
            "Epoch 17/20\n",
            "1/1 [==============================] - 0s 11ms/step - loss: 0.6682 - accuracy: 1.0000\n",
            "Epoch 18/20\n",
            "1/1 [==============================] - 0s 12ms/step - loss: 0.6661 - accuracy: 1.0000\n",
            "Epoch 19/20\n",
            "1/1 [==============================] - 0s 12ms/step - loss: 0.6640 - accuracy: 1.0000\n",
            "Epoch 20/20\n",
            "1/1 [==============================] - 0s 12ms/step - loss: 0.6619 - accuracy: 1.0000\n",
            "1/1 [==============================] - 0s 181ms/step - loss: 0.6598 - accuracy: 1.0000\n",
            "\n",
            " Accuracy: 1.0000\n"
          ]
        }
      ],
      "source": [
        "model.compile(optimizer='adam', loss='binary_crossentropy', metrics=['accuracy'])\n",
        "model.fit(padded_x, classes, epochs=20)\n",
        "print(\"\\n Accuracy: %.4f\" % (model.evaluate(padded_x, classes)[1]))"
      ]
    }
  ],
  "metadata": {
    "kernelspec": {
      "display_name": "Python 3 (ipykernel)",
      "language": "python",
      "name": "python3"
    },
    "language_info": {
      "codemirror_mode": {
        "name": "ipython",
        "version": 3
      },
      "file_extension": ".py",
      "mimetype": "text/x-python",
      "name": "python",
      "nbconvert_exporter": "python",
      "pygments_lexer": "ipython3",
      "version": "3.9.7"
    },
    "colab": {
      "provenance": [],
      "include_colab_link": true
    }
  },
  "nbformat": 4,
  "nbformat_minor": 0
}