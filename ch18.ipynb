{
  "cells": [
    {
      "cell_type": "markdown",
      "metadata": {
        "id": "view-in-github",
        "colab_type": "text"
      },
      "source": [
        "<a href=\"https://colab.research.google.com/github/woominhee/Everyones-Deep-Learning/blob/main/ch18.ipynb\" target=\"_parent\"><img src=\"https://colab.research.google.com/assets/colab-badge.svg\" alt=\"Open In Colab\"/></a>"
      ]
    },
    {
      "cell_type": "markdown",
      "metadata": {
        "id": "moFVlmfsMeEY"
      },
      "source": [
        "# 18장 시퀀스 배열로 다루는 순환 신경망(RNN)"
      ]
    },
    {
      "cell_type": "markdown",
      "metadata": {
        "id": "BV80bxS7MeEd"
      },
      "source": [
        "## 1. LSTM을 이용한 로이터 뉴스 카테고리 분류하기"
      ]
    },
    {
      "cell_type": "code",
      "execution_count": 2,
      "metadata": {
        "id": "LedMrcmrMeEe",
        "outputId": "72f3554c-f358-46ca-ca63-9e1922d19aac",
        "colab": {
          "base_uri": "https://localhost:8080/"
        }
      },
      "outputs": [
        {
          "output_type": "stream",
          "name": "stdout",
          "text": [
            "46 카테고리\n",
            "8982 학습용 뉴스 기사\n",
            "2246 테스트용 뉴스 기사\n",
            "[1, 2, 2, 8, 43, 10, 447, 5, 25, 207, 270, 5, 2, 111, 16, 369, 186, 90, 67, 7, 89, 5, 19, 102, 6, 19, 124, 15, 90, 67, 84, 22, 482, 26, 7, 48, 4, 49, 8, 864, 39, 209, 154, 6, 151, 6, 83, 11, 15, 22, 155, 11, 15, 7, 48, 9, 2, 2, 504, 6, 258, 6, 272, 11, 15, 22, 134, 44, 11, 15, 16, 8, 197, 2, 90, 67, 52, 29, 209, 30, 32, 132, 6, 109, 15, 17, 12]\n"
          ]
        }
      ],
      "source": [
        "from tensorflow.keras.models import Sequential\n",
        "from tensorflow.keras.layers import Dense, LSTM, Embedding\n",
        "from tensorflow.keras.utils import to_categorical\n",
        "from tensorflow.keras.preprocessing import sequence\n",
        "from tensorflow.keras.datasets import reuters       # 로이터 뉴스 데이터셋 불러오기\n",
        "from tensorflow.keras.callbacks import EarlyStopping\n",
        "\n",
        "import numpy as np\n",
        "import matplotlib.pyplot as plt\n",
        "\n",
        "# 데이터를 불러와 학습셋, 테스트셋으로 나눈다.\n",
        "(X_train, y_train), (X_test, y_test) = reuters.load_data(num_words=1000, test_split=0.2)\n",
        "\n",
        "# 데이터 확인\n",
        "category = np.max(y_train) + 1\n",
        "print(category, '카테고리')\n",
        "print(len(X_train), '학습용 뉴스 기사')\n",
        "print(len(X_test), '테스트용 뉴스 기사')\n",
        "print(X_train[0])"
      ]
    },
    {
      "cell_type": "code",
      "execution_count": 4,
      "metadata": {
        "id": "W6Ka1uHnMeEg",
        "outputId": "bc5ec605-a575-4335-cbc8-5e4c7bbbffc4",
        "colab": {
          "base_uri": "https://localhost:8080/"
        }
      },
      "outputs": [
        {
          "output_type": "stream",
          "name": "stdout",
          "text": [
            "Epoch 1/200\n",
            "450/450 [==============================] - 31s 64ms/step - loss: 2.2673 - accuracy: 0.4284 - val_loss: 2.0188 - val_accuracy: 0.5009\n",
            "Epoch 2/200\n",
            "450/450 [==============================] - 31s 69ms/step - loss: 1.8878 - accuracy: 0.5184 - val_loss: 1.8008 - val_accuracy: 0.5410\n",
            "Epoch 3/200\n",
            "450/450 [==============================] - 30s 66ms/step - loss: 1.7543 - accuracy: 0.5605 - val_loss: 1.6789 - val_accuracy: 0.5672\n",
            "Epoch 4/200\n",
            "450/450 [==============================] - 30s 66ms/step - loss: 1.5898 - accuracy: 0.5986 - val_loss: 1.6459 - val_accuracy: 0.5908\n",
            "Epoch 5/200\n",
            "450/450 [==============================] - 29s 65ms/step - loss: 1.4648 - accuracy: 0.6291 - val_loss: 1.4644 - val_accuracy: 0.6411\n",
            "Epoch 6/200\n",
            "450/450 [==============================] - 29s 65ms/step - loss: 1.3380 - accuracy: 0.6631 - val_loss: 1.4147 - val_accuracy: 0.6492\n",
            "Epoch 7/200\n",
            "450/450 [==============================] - 29s 63ms/step - loss: 1.2418 - accuracy: 0.6868 - val_loss: 1.3435 - val_accuracy: 0.6572\n",
            "Epoch 8/200\n",
            "450/450 [==============================] - 30s 66ms/step - loss: 1.1478 - accuracy: 0.7076 - val_loss: 1.2834 - val_accuracy: 0.6701\n",
            "Epoch 9/200\n",
            "450/450 [==============================] - 30s 66ms/step - loss: 1.0571 - accuracy: 0.7336 - val_loss: 1.2001 - val_accuracy: 0.6999\n",
            "Epoch 10/200\n",
            "450/450 [==============================] - 29s 65ms/step - loss: 0.9723 - accuracy: 0.7544 - val_loss: 1.1804 - val_accuracy: 0.7070\n",
            "Epoch 11/200\n",
            "450/450 [==============================] - 29s 65ms/step - loss: 0.8990 - accuracy: 0.7725 - val_loss: 1.1518 - val_accuracy: 0.7066\n",
            "Epoch 12/200\n",
            "450/450 [==============================] - 30s 66ms/step - loss: 0.8325 - accuracy: 0.7915 - val_loss: 1.1614 - val_accuracy: 0.7159\n",
            "Epoch 13/200\n",
            "450/450 [==============================] - 29s 65ms/step - loss: 0.7834 - accuracy: 0.8054 - val_loss: 1.1325 - val_accuracy: 0.7217\n",
            "Epoch 14/200\n",
            "450/450 [==============================] - 29s 65ms/step - loss: 0.7334 - accuracy: 0.8177 - val_loss: 1.1469 - val_accuracy: 0.7079\n",
            "Epoch 15/200\n",
            "450/450 [==============================] - 30s 66ms/step - loss: 0.6861 - accuracy: 0.8293 - val_loss: 1.1667 - val_accuracy: 0.7213\n",
            "Epoch 16/200\n",
            "450/450 [==============================] - 30s 66ms/step - loss: 0.6439 - accuracy: 0.8381 - val_loss: 1.1579 - val_accuracy: 0.7280\n",
            "Epoch 17/200\n",
            "450/450 [==============================] - 30s 66ms/step - loss: 0.5934 - accuracy: 0.8536 - val_loss: 1.2068 - val_accuracy: 0.7155\n",
            "Epoch 18/200\n",
            "450/450 [==============================] - 30s 67ms/step - loss: 0.5524 - accuracy: 0.8604 - val_loss: 1.2271 - val_accuracy: 0.7217\n",
            "71/71 [==============================] - 1s 18ms/step - loss: 1.2271 - accuracy: 0.7217\n",
            "\n",
            " Test Accuracy: 0.7217\n"
          ]
        }
      ],
      "source": [
        "# 단어 수 맞추기\n",
        "X_train = sequence.pad_sequences(X_train, maxlen=100)\n",
        "X_test = sequence.pad_sequences(X_test, maxlen=100)\n",
        "\n",
        "# 원-핫 인코딩 처리\n",
        "y_train = to_categorical(y_train)\n",
        "y_test = to_categorical(y_test)\n",
        "\n",
        "# 모델 구조 설정\n",
        "model = Sequential()\n",
        "model.add(Embedding(1000, 100))  # 입력된 값을 받아 다음 층이 알 수 있는 형태로 변환\n",
        "model.add(LSTM(100, activation='tanh'))  # RNN 에서 기억 값에 대한 가중치를 제어\n",
        "model.add(Dense(46, activation='softmax'))\n",
        "\n",
        "# 모델의 실행 옵션 설정\n",
        "model.compile(loss='categorical_crossentropy', optimizer='adam', metrics=['accuracy'])\n",
        "\n",
        "# 학습의 조기 중단 설정\n",
        "early_stopping_callback = EarlyStopping(monitor='val_loss', patience=5)\n",
        "\n",
        "# 모델 실행\n",
        "history = model.fit(X_train, y_train, batch_size=20, epochs=200, validation_data=(X_test, y_test), callbacks=[early_stopping_callback])\n",
        "\n",
        "# 테스트 정확도 출력\n",
        "print(\"\\n Test Accuracy: %.4f\" % (model.evaluate(X_test, y_test)[1]))"
      ]
    },
    {
      "cell_type": "code",
      "execution_count": 5,
      "metadata": {
        "id": "VgAQgBNZMeEg",
        "outputId": "be3afd7d-d72d-40d7-ddcf-08fe2f5767fe",
        "colab": {
          "base_uri": "https://localhost:8080/",
          "height": 279
        }
      },
      "outputs": [
        {
          "output_type": "display_data",
          "data": {
            "text/plain": [
              "<Figure size 432x288 with 1 Axes>"
            ],
            "image/png": "[encoded data removed]"
          },
          "metadata": {
            "needs_background": "light"
          }
        }
      ],
      "source": [
        "# 학습셋과 테스트셋의 오차 저장\n",
        "y_vloss = history.history['val_loss']\n",
        "y_loss = history.history['loss']\n",
        "\n",
        "# 그래프로 표현\n",
        "x_len = np.arange(len(y_loss))\n",
        "plt.plot(x_len, y_vloss, marker='.', c=\"red\", label='Testset_loss')\n",
        "plt.plot(x_len, y_loss, marker='.', c=\"blue\", label='Trainset_loss')\n",
        "\n",
        "# 그래프에 그리드를 주고 레이블을 표시\n",
        "plt.legend(loc='upper right')\n",
        "plt.grid()\n",
        "plt.xlabel('epoch')\n",
        "plt.ylabel('loss')\n",
        "plt.show()"
      ]
    },
    {
      "cell_type": "markdown",
      "metadata": {
        "id": "dJe5NA-bMeEh"
      },
      "source": [
        "## 2. LSTM과 CNN의 조합을 이용한 영화 리뷰 분류하기"
      ]
    },
    {
      "cell_type": "code",
      "execution_count": 6,
      "metadata": {
        "id": "62aG-sujMeEi",
        "outputId": "788f3dc5-071e-4a8e-ede8-12d461555125",
        "colab": {
          "base_uri": "https://localhost:8080/"
        }
      },
      "outputs": [
        {
          "output_type": "stream",
          "name": "stdout",
          "text": [
            "Downloading data from https://storage.googleapis.com/tensorflow/tf-keras-datasets/imdb.npz\n",
            "17464789/17464789 [==============================] - 0s 0us/step\n",
            "Model: \"sequential_1\"\n",
            "_________________________________________________________________\n",
            " Layer (type)                Output Shape              Param #   \n",
            "=================================================================\n",
            " embedding_1 (Embedding)     (None, None, 100)         500000    \n",
            "                                                                 \n",
            " dropout (Dropout)           (None, None, 100)         0         \n",
            "                                                                 \n",
            " conv1d (Conv1D)             (None, None, 64)          32064     \n",
            "                                                                 \n",
            " max_pooling1d (MaxPooling1D  (None, None, 64)         0         \n",
            " )                                                               \n",
            "                                                                 \n",
            " lstm_1 (LSTM)               (None, 55)                26400     \n",
            "                                                                 \n",
            " dense_1 (Dense)             (None, 1)                 56        \n",
            "                                                                 \n",
            " activation (Activation)     (None, 1)                 0         \n",
            "                                                                 \n",
            "=================================================================\n",
            "Total params: 558,520\n",
            "Trainable params: 558,520\n",
            "Non-trainable params: 0\n",
            "_________________________________________________________________\n"
          ]
        }
      ],
      "source": [
        "from tensorflow.keras.models import Sequential\n",
        "from tensorflow.keras.layers import Dense, Dropout, Activation, Embedding, LSTM, Conv1D, MaxPooling1D\n",
        "from tensorflow.keras.datasets import imdb\n",
        "from tensorflow.keras.preprocessing import sequence\n",
        "from tensorflow.keras.callbacks import EarlyStopping\n",
        "\n",
        "import numpy as np\n",
        "import matplotlib.pyplot as plt\n",
        "\n",
        "# 데이터를 불러와 학습셋, 테스트셋으로 나눈다.\n",
        "(X_train, y_train), (X_test, y_test) = imdb.load_data(num_words=5000)\n",
        "\n",
        "# 단어 수 맞추기\n",
        "X_train = sequence.pad_sequences(X_train, maxlen=500)\n",
        "X_test = sequence.pad_sequences(X_test, maxlen=500)\n",
        "\n",
        "# 모델 구조 설정\n",
        "model = Sequential()\n",
        "model.add(Embedding(5000, 100))\n",
        "model.add(Dropout(0.5))\n",
        "model.add(Conv1D(64, 5, padding='valid', activation='relu',strides=1))  # 배열 형태로 이루어진 1차웜\n",
        "model.add(MaxPooling1D(pool_size=4))\n",
        "model.add(LSTM(55))\n",
        "model.add(Dense(1))\n",
        "model.add(Activation('sigmoid'))\n",
        "model.summary()"
      ]
    },
    {
      "cell_type": "code",
      "execution_count": 7,
      "metadata": {
        "id": "DSEtxKjqMeEi",
        "outputId": "b1b7289f-3113-4b9a-fd9f-bc45f3dd87e7",
        "colab": {
          "base_uri": "https://localhost:8080/"
        }
      },
      "outputs": [
        {
          "output_type": "stream",
          "name": "stdout",
          "text": [
            "Epoch 1/100\n",
            "469/469 [==============================] - 86s 179ms/step - loss: 0.4007 - accuracy: 0.8051 - val_loss: 0.2830 - val_accuracy: 0.8798\n",
            "Epoch 2/100\n",
            "469/469 [==============================] - 81s 173ms/step - loss: 0.2359 - accuracy: 0.9081 - val_loss: 0.2565 - val_accuracy: 0.8950\n",
            "Epoch 3/100\n",
            "469/469 [==============================] - 81s 172ms/step - loss: 0.1801 - accuracy: 0.9312 - val_loss: 0.2820 - val_accuracy: 0.8859\n",
            "Epoch 4/100\n",
            "469/469 [==============================] - 92s 195ms/step - loss: 0.1476 - accuracy: 0.9461 - val_loss: 0.2833 - val_accuracy: 0.8914\n",
            "Epoch 5/100\n",
            "469/469 [==============================] - 81s 173ms/step - loss: 0.1207 - accuracy: 0.9577 - val_loss: 0.2969 - val_accuracy: 0.8874\n",
            "782/782 [==============================] - 25s 33ms/step - loss: 0.3154 - accuracy: 0.8828\n",
            "\n",
            " Test Accuracy: 0.8828\n"
          ]
        }
      ],
      "source": [
        "# 모델의 실행 옵션 설정\n",
        "model.compile(loss='binary_crossentropy', optimizer='adam', metrics=['accuracy'])\n",
        "\n",
        "# 학습의 조기 중단 설정\n",
        "early_stopping_callback = EarlyStopping(monitor='val_loss', patience=3)\n",
        "\n",
        "# 모델 실행\n",
        "history = model.fit(X_train, y_train, batch_size=40, epochs=100, validation_split=0.25, callbacks=[early_stopping_callback])\n",
        "\n",
        "# 테스트 정확도 출력\n",
        "print(\"\\n Test Accuracy: %.4f\" % (model.evaluate(X_test, y_test)[1]))"
      ]
    },
    {
      "cell_type": "code",
      "execution_count": 8,
      "metadata": {
        "id": "MPI4hRamMeEj",
        "outputId": "884f236a-ec50-4db1-8c4f-d24588b05a54",
        "colab": {
          "base_uri": "https://localhost:8080/",
          "height": 279
        }
      },
      "outputs": [
        {
          "output_type": "display_data",
          "data": {
            "text/plain": [
              "<Figure size 432x288 with 1 Axes>"
            ],
            "image/png": "[encoded data removed]"
          },
          "metadata": {
            "needs_background": "light"
          }
        }
      ],
      "source": [
        "# 학습셋과 테스트셋의 오차 저장\n",
        "y_vloss = history.history['val_loss']\n",
        "y_loss = history.history['loss']\n",
        "\n",
        "# 그래프로 표현\n",
        "x_len = np.arange(len(y_loss))\n",
        "plt.plot(x_len, y_vloss, marker='.', c=\"red\", label='Testset_loss')\n",
        "plt.plot(x_len, y_loss, marker='.', c=\"blue\", label='Trainset_loss')\n",
        "\n",
        "# 그래프에 그리드를 주고 레이블을 표시\n",
        "plt.legend(loc='upper right')\n",
        "plt.grid()\n",
        "plt.xlabel('epoch')\n",
        "plt.ylabel('loss')\n",
        "plt.show()"
      ]
    },
    {
      "cell_type": "markdown",
      "metadata": {
        "id": "fh7X-05sMeEk"
      },
      "source": [
        "## 3. 어텐션을 사용한 신경망"
      ]
    },
    {
      "cell_type": "code",
      "execution_count": 9,
      "metadata": {
        "id": "zKVqBc7PMeEk",
        "colab": {
          "base_uri": "https://localhost:8080/"
        },
        "outputId": "48b3c76b-26c5-488e-a041-b2486f26a33f"
      },
      "outputs": [
        {
          "output_type": "stream",
          "name": "stdout",
          "text": [
            "Looking in indexes: https://pypi.org/simple, https://us-python.pkg.dev/colab-wheels/public/simple/\n",
            "Collecting attention\n",
            "  Downloading attention-4.1-py3-none-any.whl (8.6 kB)\n",
            "Requirement already satisfied: numpy>=1.18.1 in /usr/local/lib/python3.8/dist-packages (from attention) (1.22.4)\n",
            "Requirement already satisfied: tensorflow>=2.1 in /usr/local/lib/python3.8/dist-packages (from attention) (2.11.0)\n",
            "Requirement already satisfied: grpcio<2.0,>=1.24.3 in /usr/local/lib/python3.8/dist-packages (from tensorflow>=2.1->attention) (1.51.1)\n",
            "Requirement already satisfied: gast<=0.4.0,>=0.2.1 in /usr/local/lib/python3.8/dist-packages (from tensorflow>=2.1->attention) (0.4.0)\n",
            "Requirement already satisfied: keras<2.12,>=2.11.0 in /usr/local/lib/python3.8/dist-packages (from tensorflow>=2.1->attention) (2.11.0)\n",
            "Requirement already satisfied: tensorflow-estimator<2.12,>=2.11.0 in /usr/local/lib/python3.8/dist-packages (from tensorflow>=2.1->attention) (2.11.0)\n",
            "Requirement already satisfied: six>=1.12.0 in /usr/local/lib/python3.8/dist-packages (from tensorflow>=2.1->attention) (1.15.0)\n",
            "Requirement already satisfied: tensorboard<2.12,>=2.11 in /usr/local/lib/python3.8/dist-packages (from tensorflow>=2.1->attention) (2.11.2)\n",
            "Requirement already satisfied: astunparse>=1.6.0 in /usr/local/lib/python3.8/dist-packages (from tensorflow>=2.1->attention) (1.6.3)\n",
            "Requirement already satisfied: tensorflow-io-gcs-filesystem>=0.23.1 in /usr/local/lib/python3.8/dist-packages (from tensorflow>=2.1->attention) (0.30.0)\n",
            "Requirement already satisfied: wrapt>=1.11.0 in /usr/local/lib/python3.8/dist-packages (from tensorflow>=2.1->attention) (1.14.1)\n",
            "Requirement already satisfied: setuptools in /usr/local/lib/python3.8/dist-packages (from tensorflow>=2.1->attention) (57.4.0)\n",
            "Requirement already satisfied: h5py>=2.9.0 in /usr/local/lib/python3.8/dist-packages (from tensorflow>=2.1->attention) (3.1.0)\n",
            "Requirement already satisfied: absl-py>=1.0.0 in /usr/local/lib/python3.8/dist-packages (from tensorflow>=2.1->attention) (1.4.0)\n",
            "Requirement already satisfied: packaging in /usr/local/lib/python3.8/dist-packages (from tensorflow>=2.1->attention) (23.0)\n",
            "Requirement already satisfied: flatbuffers>=2.0 in /usr/local/lib/python3.8/dist-packages (from tensorflow>=2.1->attention) (23.1.21)\n",
            "Requirement already satisfied: libclang>=13.0.0 in /usr/local/lib/python3.8/dist-packages (from tensorflow>=2.1->attention) (15.0.6.1)\n",
            "Requirement already satisfied: protobuf<3.20,>=3.9.2 in /usr/local/lib/python3.8/dist-packages (from tensorflow>=2.1->attention) (3.19.6)\n",
            "Requirement already satisfied: opt-einsum>=2.3.2 in /usr/local/lib/python3.8/dist-packages (from tensorflow>=2.1->attention) (3.3.0)\n",
            "Requirement already satisfied: termcolor>=1.1.0 in /usr/local/lib/python3.8/dist-packages (from tensorflow>=2.1->attention) (2.2.0)\n",
            "Requirement already satisfied: google-pasta>=0.1.1 in /usr/local/lib/python3.8/dist-packages (from tensorflow>=2.1->attention) (0.2.0)\n",
            "Requirement already satisfied: typing-extensions>=3.6.6 in /usr/local/lib/python3.8/dist-packages (from tensorflow>=2.1->attention) (4.5.0)\n",
            "Requirement already satisfied: wheel<1.0,>=0.23.0 in /usr/local/lib/python3.8/dist-packages (from astunparse>=1.6.0->tensorflow>=2.1->attention) (0.38.4)\n",
            "Requirement already satisfied: requests<3,>=2.21.0 in /usr/local/lib/python3.8/dist-packages (from tensorboard<2.12,>=2.11->tensorflow>=2.1->attention) (2.25.1)\n",
            "Requirement already satisfied: werkzeug>=1.0.1 in /usr/local/lib/python3.8/dist-packages (from tensorboard<2.12,>=2.11->tensorflow>=2.1->attention) (1.0.1)\n",
            "Requirement already satisfied: google-auth<3,>=1.6.3 in /usr/local/lib/python3.8/dist-packages (from tensorboard<2.12,>=2.11->tensorflow>=2.1->attention) (2.16.1)\n",
            "Requirement already satisfied: google-auth-oauthlib<0.5,>=0.4.1 in /usr/local/lib/python3.8/dist-packages (from tensorboard<2.12,>=2.11->tensorflow>=2.1->attention) (0.4.6)\n",
            "Requirement already satisfied: tensorboard-data-server<0.7.0,>=0.6.0 in /usr/local/lib/python3.8/dist-packages (from tensorboard<2.12,>=2.11->tensorflow>=2.1->attention) (0.6.1)\n",
            "Requirement already satisfied: tensorboard-plugin-wit>=1.6.0 in /usr/local/lib/python3.8/dist-packages (from tensorboard<2.12,>=2.11->tensorflow>=2.1->attention) (1.8.1)\n",
            "Requirement already satisfied: markdown>=2.6.8 in /usr/local/lib/python3.8/dist-packages (from tensorboard<2.12,>=2.11->tensorflow>=2.1->attention) (3.4.1)\n",
            "Requirement already satisfied: pyasn1-modules>=0.2.1 in /usr/local/lib/python3.8/dist-packages (from google-auth<3,>=1.6.3->tensorboard<2.12,>=2.11->tensorflow>=2.1->attention) (0.2.8)\n",
            "Requirement already satisfied: cachetools<6.0,>=2.0.0 in /usr/local/lib/python3.8/dist-packages (from google-auth<3,>=1.6.3->tensorboard<2.12,>=2.11->tensorflow>=2.1->attention) (5.3.0)\n",
            "Requirement already satisfied: rsa<5,>=3.1.4 in /usr/local/lib/python3.8/dist-packages (from google-auth<3,>=1.6.3->tensorboard<2.12,>=2.11->tensorflow>=2.1->attention) (4.9)\n",
            "Requirement already satisfied: requests-oauthlib>=0.7.0 in /usr/local/lib/python3.8/dist-packages (from google-auth-oauthlib<0.5,>=0.4.1->tensorboard<2.12,>=2.11->tensorflow>=2.1->attention) (1.3.1)\n",
            "Requirement already satisfied: importlib-metadata>=4.4 in /usr/local/lib/python3.8/dist-packages (from markdown>=2.6.8->tensorboard<2.12,>=2.11->tensorflow>=2.1->attention) (6.0.0)\n",
            "Requirement already satisfied: chardet<5,>=3.0.2 in /usr/local/lib/python3.8/dist-packages (from requests<3,>=2.21.0->tensorboard<2.12,>=2.11->tensorflow>=2.1->attention) (4.0.0)\n",
            "Requirement already satisfied: urllib3<1.27,>=1.21.1 in /usr/local/lib/python3.8/dist-packages (from requests<3,>=2.21.0->tensorboard<2.12,>=2.11->tensorflow>=2.1->attention) (1.24.3)\n",
            "Requirement already satisfied: certifi>=2017.4.17 in /usr/local/lib/python3.8/dist-packages (from requests<3,>=2.21.0->tensorboard<2.12,>=2.11->tensorflow>=2.1->attention) (2022.12.7)\n",
            "Requirement already satisfied: idna<3,>=2.5 in /usr/local/lib/python3.8/dist-packages (from requests<3,>=2.21.0->tensorboard<2.12,>=2.11->tensorflow>=2.1->attention) (2.10)\n",
            "Requirement already satisfied: zipp>=0.5 in /usr/local/lib/python3.8/dist-packages (from importlib-metadata>=4.4->markdown>=2.6.8->tensorboard<2.12,>=2.11->tensorflow>=2.1->attention) (3.14.0)\n",
            "Requirement already satisfied: pyasn1<0.5.0,>=0.4.6 in /usr/local/lib/python3.8/dist-packages (from pyasn1-modules>=0.2.1->google-auth<3,>=1.6.3->tensorboard<2.12,>=2.11->tensorflow>=2.1->attention) (0.4.8)\n",
            "Requirement already satisfied: oauthlib>=3.0.0 in /usr/local/lib/python3.8/dist-packages (from requests-oauthlib>=0.7.0->google-auth-oauthlib<0.5,>=0.4.1->tensorboard<2.12,>=2.11->tensorflow>=2.1->attention) (3.2.2)\n",
            "Installing collected packages: attention\n",
            "Successfully installed attention-4.1\n"
          ]
        }
      ],
      "source": [
        "!pip install attention"
      ]
    },
    {
      "cell_type": "code",
      "execution_count": 12,
      "metadata": {
        "id": "bxyCnbT0MeEl",
        "outputId": "68896b61-6b31-496a-b9ce-a9252b9ac509",
        "colab": {
          "base_uri": "https://localhost:8080/"
        }
      },
      "outputs": [
        {
          "output_type": "stream",
          "name": "stdout",
          "text": [
            "Epoch 1/100\n",
            "625/625 [==============================] - 613s 978ms/step - loss: 0.3748 - accuracy: 0.8287 - val_loss: 0.2839 - val_accuracy: 0.8802\n",
            "Epoch 2/100\n",
            "625/625 [==============================] - 636s 1s/step - loss: 0.2197 - accuracy: 0.9125 - val_loss: 0.2702 - val_accuracy: 0.8884\n",
            "Epoch 3/100\n",
            "625/625 [==============================] - 634s 1s/step - loss: 0.1615 - accuracy: 0.9352 - val_loss: 0.2815 - val_accuracy: 0.8848\n",
            "Epoch 4/100\n",
            "625/625 [==============================] - 636s 1s/step - loss: 0.1155 - accuracy: 0.9561 - val_loss: 0.3393 - val_accuracy: 0.8824\n",
            "Epoch 5/100\n",
            "625/625 [==============================] - 607s 971ms/step - loss: 0.0783 - accuracy: 0.9695 - val_loss: 0.3814 - val_accuracy: 0.8740\n",
            "782/782 [==============================] - 118s 149ms/step - loss: 0.3814 - accuracy: 0.8740\n",
            "\n",
            " Test Accuracy: 0.8740\n"
          ]
        }
      ],
      "source": [
        "from tensorflow.keras.models import Sequential\n",
        "from tensorflow.keras.layers import Dense, Dropout, Activation, Embedding, LSTM, Conv1D, MaxPooling1D\n",
        "from tensorflow.keras.datasets import imdb\n",
        "from tensorflow.keras.preprocessing import sequence\n",
        "from tensorflow.keras.callbacks import EarlyStopping\n",
        "from tensorflow.keras.utils import plot_model\n",
        "from attention import Attention\n",
        "\n",
        "import numpy as np\n",
        "import matplotlib.pyplot as plt\n",
        "\n",
        "(X_train, y_train), (X_test, y_test) = imdb.load_data(num_words=5000)\n",
        "\n",
        "X_train = sequence.pad_sequences(X_train, maxlen=500)\n",
        "X_test = sequence.pad_sequences(X_test, maxlen=500)\n",
        "\n",
        "model = Sequential()\n",
        "model.add(Embedding(5000, 500))\n",
        "model.add(Dropout(0.5))\n",
        "model.add(LSTM(64, return_sequences=True))\n",
        "model.add(Attention())\n",
        "model.add(Dropout(0.5))\n",
        "model.add(Dense(1))\n",
        "model.add(Activation('sigmoid'))\n",
        "\n",
        "model.compile(loss='binary_crossentropy', optimizer='adam', metrics=['accuracy'])\n",
        "\n",
        "early_stopping_callback = EarlyStopping(monitor='val_loss', patience=3)\n",
        "\n",
        "history = model.fit(X_train, y_train, batch_size=40, epochs=100,  validation_data=(X_test, y_test), callbacks=[early_stopping_callback])\n",
        "\n",
        "print(\"\\n Test Accuracy: %.4f\" % (model.evaluate(X_test, y_test)[1]))"
      ]
    },
    {
      "cell_type": "code",
      "execution_count": 13,
      "metadata": {
        "id": "12YPivgwMeEl",
        "outputId": "9de026f5-2d16-45d3-f0d6-3ef375380330",
        "colab": {
          "base_uri": "https://localhost:8080/",
          "height": 279
        }
      },
      "outputs": [
        {
          "output_type": "display_data",
          "data": {
            "text/plain": [
              "<Figure size 432x288 with 1 Axes>"
            ],
            "image/png": "[encoded data removed]"
          },
          "metadata": {
            "needs_background": "light"
          }
        }
      ],
      "source": [
        "y_vloss = history.history['val_loss']\n",
        "y_loss = history.history['loss']\n",
        "\n",
        "x_len = np.arange(len(y_loss))\n",
        "plt.plot(x_len, y_vloss, marker='.', c=\"red\", label='Testset_loss')\n",
        "plt.plot(x_len, y_loss, marker='.', c=\"blue\", label='Trainset_loss')\n",
        " \n",
        "plt.legend(loc='upper right')\n",
        "plt.grid()\n",
        "plt.xlabel('epoch')\n",
        "plt.ylabel('loss')\n",
        "plt.show()"
      ]
    }
  ],
  "metadata": {
    "colab": {
      "provenance": [],
      "include_colab_link": true
    },
    "kernelspec": {
      "display_name": "Python 3 (ipykernel)",
      "language": "python",
      "name": "python3"
    },
    "language_info": {
      "codemirror_mode": {
        "name": "ipython",
        "version": 3
      },
      "file_extension": ".py",
      "mimetype": "text/x-python",
      "name": "python",
      "nbconvert_exporter": "python",
      "pygments_lexer": "ipython3",
      "version": "3.9.7"
    }
  },
  "nbformat": 4,
  "nbformat_minor": 0
}